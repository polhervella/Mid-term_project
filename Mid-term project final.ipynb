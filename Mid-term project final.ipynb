{
 "cells": [
  {
   "cell_type": "code",
   "execution_count": 1,
   "metadata": {},
   "outputs": [],
   "source": [
    "# importing libraries\n",
    "\n",
    "import pandas as pd\n",
    "import numpy as np\n",
    "import matplotlib.pyplot as plt\n",
    "import seaborn as sns\n",
    "import scipy.stats as stats\n",
    "import os\n",
    "\n",
    "from sklearn.model_selection import train_test_split\n",
    "from sklearn.linear_model import LinearRegression\n",
    "from sklearn.metrics import r2_score, mean_squared_error, mean_absolute_error\n",
    "\n",
    "from sklearn.neighbors import KNeighborsRegressor\n",
    "\n",
    "import warnings\n",
    "warnings.filterwarnings('ignore')"
   ]
  },
  {
   "cell_type": "code",
   "execution_count": 2,
   "metadata": {
    "scrolled": false
   },
   "outputs": [
    {
     "data": {
      "text/html": [
       "<div>\n",
       "<style scoped>\n",
       "    .dataframe tbody tr th:only-of-type {\n",
       "        vertical-align: middle;\n",
       "    }\n",
       "\n",
       "    .dataframe tbody tr th {\n",
       "        vertical-align: top;\n",
       "    }\n",
       "\n",
       "    .dataframe thead th {\n",
       "        text-align: right;\n",
       "    }\n",
       "</style>\n",
       "<table border=\"1\" class=\"dataframe\">\n",
       "  <thead>\n",
       "    <tr style=\"text-align: right;\">\n",
       "      <th></th>\n",
       "      <th>index</th>\n",
       "      <th>id</th>\n",
       "      <th>data</th>\n",
       "      <th>bedrooms</th>\n",
       "      <th>bathrooms</th>\n",
       "      <th>sqft_living</th>\n",
       "      <th>sqft_lot</th>\n",
       "      <th>floors</th>\n",
       "      <th>waterfront</th>\n",
       "      <th>view</th>\n",
       "      <th>...</th>\n",
       "      <th>sqft_above</th>\n",
       "      <th>sqft_basement</th>\n",
       "      <th>yr_built</th>\n",
       "      <th>yr_renovated</th>\n",
       "      <th>zip_code</th>\n",
       "      <th>lat</th>\n",
       "      <th>lon</th>\n",
       "      <th>sqft_living15</th>\n",
       "      <th>sqft_lot15</th>\n",
       "      <th>price</th>\n",
       "    </tr>\n",
       "  </thead>\n",
       "  <tbody>\n",
       "    <tr>\n",
       "      <th>0</th>\n",
       "      <td>6243</td>\n",
       "      <td>8850000509</td>\n",
       "      <td>9/23/14</td>\n",
       "      <td>2</td>\n",
       "      <td>1.50</td>\n",
       "      <td>1620</td>\n",
       "      <td>1444</td>\n",
       "      <td>2.0</td>\n",
       "      <td>0</td>\n",
       "      <td>0</td>\n",
       "      <td>...</td>\n",
       "      <td>1080</td>\n",
       "      <td>540</td>\n",
       "      <td>2007</td>\n",
       "      <td>0</td>\n",
       "      <td>98144</td>\n",
       "      <td>47.5892</td>\n",
       "      <td>-122.309</td>\n",
       "      <td>1660</td>\n",
       "      <td>1642</td>\n",
       "      <td>525000</td>\n",
       "    </tr>\n",
       "    <tr>\n",
       "      <th>1</th>\n",
       "      <td>8986</td>\n",
       "      <td>191100410</td>\n",
       "      <td>6/20/14</td>\n",
       "      <td>3</td>\n",
       "      <td>2.75</td>\n",
       "      <td>2470</td>\n",
       "      <td>10125</td>\n",
       "      <td>2.0</td>\n",
       "      <td>0</td>\n",
       "      <td>0</td>\n",
       "      <td>...</td>\n",
       "      <td>2470</td>\n",
       "      <td>0</td>\n",
       "      <td>1960</td>\n",
       "      <td>2012</td>\n",
       "      <td>98040</td>\n",
       "      <td>47.5651</td>\n",
       "      <td>-122.223</td>\n",
       "      <td>2290</td>\n",
       "      <td>10125</td>\n",
       "      <td>970500</td>\n",
       "    </tr>\n",
       "    <tr>\n",
       "      <th>2</th>\n",
       "      <td>9419</td>\n",
       "      <td>6632300040</td>\n",
       "      <td>4/25/15</td>\n",
       "      <td>2</td>\n",
       "      <td>1.00</td>\n",
       "      <td>1140</td>\n",
       "      <td>7435</td>\n",
       "      <td>1.0</td>\n",
       "      <td>0</td>\n",
       "      <td>0</td>\n",
       "      <td>...</td>\n",
       "      <td>1140</td>\n",
       "      <td>0</td>\n",
       "      <td>1952</td>\n",
       "      <td>1990</td>\n",
       "      <td>98125</td>\n",
       "      <td>47.7300</td>\n",
       "      <td>-122.310</td>\n",
       "      <td>1320</td>\n",
       "      <td>9385</td>\n",
       "      <td>327000</td>\n",
       "    </tr>\n",
       "    <tr>\n",
       "      <th>3</th>\n",
       "      <td>10155</td>\n",
       "      <td>7517500310</td>\n",
       "      <td>5/6/15</td>\n",
       "      <td>3</td>\n",
       "      <td>1.00</td>\n",
       "      <td>1460</td>\n",
       "      <td>6198</td>\n",
       "      <td>1.5</td>\n",
       "      <td>0</td>\n",
       "      <td>0</td>\n",
       "      <td>...</td>\n",
       "      <td>1460</td>\n",
       "      <td>0</td>\n",
       "      <td>1916</td>\n",
       "      <td>0</td>\n",
       "      <td>98107</td>\n",
       "      <td>47.6626</td>\n",
       "      <td>-122.361</td>\n",
       "      <td>2280</td>\n",
       "      <td>5160</td>\n",
       "      <td>775000</td>\n",
       "    </tr>\n",
       "    <tr>\n",
       "      <th>4</th>\n",
       "      <td>10436</td>\n",
       "      <td>7454000990</td>\n",
       "      <td>9/24/14</td>\n",
       "      <td>2</td>\n",
       "      <td>1.00</td>\n",
       "      <td>670</td>\n",
       "      <td>6720</td>\n",
       "      <td>1.0</td>\n",
       "      <td>0</td>\n",
       "      <td>0</td>\n",
       "      <td>...</td>\n",
       "      <td>670</td>\n",
       "      <td>0</td>\n",
       "      <td>1942</td>\n",
       "      <td>0</td>\n",
       "      <td>98126</td>\n",
       "      <td>47.5151</td>\n",
       "      <td>-122.372</td>\n",
       "      <td>710</td>\n",
       "      <td>6720</td>\n",
       "      <td>304950</td>\n",
       "    </tr>\n",
       "    <tr>\n",
       "      <th>...</th>\n",
       "      <td>...</td>\n",
       "      <td>...</td>\n",
       "      <td>...</td>\n",
       "      <td>...</td>\n",
       "      <td>...</td>\n",
       "      <td>...</td>\n",
       "      <td>...</td>\n",
       "      <td>...</td>\n",
       "      <td>...</td>\n",
       "      <td>...</td>\n",
       "      <td>...</td>\n",
       "      <td>...</td>\n",
       "      <td>...</td>\n",
       "      <td>...</td>\n",
       "      <td>...</td>\n",
       "      <td>...</td>\n",
       "      <td>...</td>\n",
       "      <td>...</td>\n",
       "      <td>...</td>\n",
       "      <td>...</td>\n",
       "      <td>...</td>\n",
       "    </tr>\n",
       "    <tr>\n",
       "      <th>17271</th>\n",
       "      <td>11964</td>\n",
       "      <td>4353700200</td>\n",
       "      <td>12/3/14</td>\n",
       "      <td>2</td>\n",
       "      <td>1.75</td>\n",
       "      <td>1810</td>\n",
       "      <td>7523</td>\n",
       "      <td>1.0</td>\n",
       "      <td>0</td>\n",
       "      <td>0</td>\n",
       "      <td>...</td>\n",
       "      <td>1170</td>\n",
       "      <td>640</td>\n",
       "      <td>1962</td>\n",
       "      <td>1980</td>\n",
       "      <td>98027</td>\n",
       "      <td>47.5695</td>\n",
       "      <td>-122.087</td>\n",
       "      <td>2090</td>\n",
       "      <td>7523</td>\n",
       "      <td>501000</td>\n",
       "    </tr>\n",
       "    <tr>\n",
       "      <th>17272</th>\n",
       "      <td>21575</td>\n",
       "      <td>1931300412</td>\n",
       "      <td>4/16/15</td>\n",
       "      <td>3</td>\n",
       "      <td>2.25</td>\n",
       "      <td>1190</td>\n",
       "      <td>1200</td>\n",
       "      <td>3.0</td>\n",
       "      <td>0</td>\n",
       "      <td>0</td>\n",
       "      <td>...</td>\n",
       "      <td>1190</td>\n",
       "      <td>0</td>\n",
       "      <td>2008</td>\n",
       "      <td>0</td>\n",
       "      <td>98103</td>\n",
       "      <td>47.6542</td>\n",
       "      <td>-122.346</td>\n",
       "      <td>1180</td>\n",
       "      <td>1224</td>\n",
       "      <td>475000</td>\n",
       "    </tr>\n",
       "    <tr>\n",
       "      <th>17273</th>\n",
       "      <td>5390</td>\n",
       "      <td>9187200285</td>\n",
       "      <td>5/5/14</td>\n",
       "      <td>6</td>\n",
       "      <td>1.75</td>\n",
       "      <td>2920</td>\n",
       "      <td>5000</td>\n",
       "      <td>2.5</td>\n",
       "      <td>0</td>\n",
       "      <td>0</td>\n",
       "      <td>...</td>\n",
       "      <td>2780</td>\n",
       "      <td>140</td>\n",
       "      <td>1908</td>\n",
       "      <td>0</td>\n",
       "      <td>98122</td>\n",
       "      <td>47.6024</td>\n",
       "      <td>-122.295</td>\n",
       "      <td>2020</td>\n",
       "      <td>5000</td>\n",
       "      <td>823000</td>\n",
       "    </tr>\n",
       "    <tr>\n",
       "      <th>17274</th>\n",
       "      <td>860</td>\n",
       "      <td>2359300030</td>\n",
       "      <td>5/8/15</td>\n",
       "      <td>3</td>\n",
       "      <td>1.00</td>\n",
       "      <td>910</td>\n",
       "      <td>5212</td>\n",
       "      <td>1.0</td>\n",
       "      <td>0</td>\n",
       "      <td>0</td>\n",
       "      <td>...</td>\n",
       "      <td>910</td>\n",
       "      <td>0</td>\n",
       "      <td>1951</td>\n",
       "      <td>0</td>\n",
       "      <td>98115</td>\n",
       "      <td>47.6742</td>\n",
       "      <td>-122.284</td>\n",
       "      <td>1520</td>\n",
       "      <td>6300</td>\n",
       "      <td>565000</td>\n",
       "    </tr>\n",
       "    <tr>\n",
       "      <th>17275</th>\n",
       "      <td>15795</td>\n",
       "      <td>7129304540</td>\n",
       "      <td>12/20/14</td>\n",
       "      <td>5</td>\n",
       "      <td>2.00</td>\n",
       "      <td>1430</td>\n",
       "      <td>5600</td>\n",
       "      <td>1.5</td>\n",
       "      <td>0</td>\n",
       "      <td>0</td>\n",
       "      <td>...</td>\n",
       "      <td>1430</td>\n",
       "      <td>0</td>\n",
       "      <td>1947</td>\n",
       "      <td>0</td>\n",
       "      <td>98118</td>\n",
       "      <td>47.5192</td>\n",
       "      <td>-122.266</td>\n",
       "      <td>1860</td>\n",
       "      <td>5980</td>\n",
       "      <td>133000</td>\n",
       "    </tr>\n",
       "  </tbody>\n",
       "</table>\n",
       "<p>17276 rows × 22 columns</p>\n",
       "</div>"
      ],
      "text/plain": [
       "       index          id      data   bedrooms   bathrooms   sqft_living  \\\n",
       "0       6243  8850000509   9/23/14          2        1.50          1620   \n",
       "1       8986   191100410   6/20/14          3        2.75          2470   \n",
       "2       9419  6632300040   4/25/15          2        1.00          1140   \n",
       "3      10155  7517500310    5/6/15          3        1.00          1460   \n",
       "4      10436  7454000990   9/24/14          2        1.00           670   \n",
       "...      ...         ...       ...        ...         ...           ...   \n",
       "17271  11964  4353700200   12/3/14          2        1.75          1810   \n",
       "17272  21575  1931300412   4/16/15          3        2.25          1190   \n",
       "17273   5390  9187200285    5/5/14          6        1.75          2920   \n",
       "17274    860  2359300030    5/8/15          3        1.00           910   \n",
       "17275  15795  7129304540  12/20/14          5        2.00          1430   \n",
       "\n",
       "        sqft_lot   floors   waterfront   view  ...   sqft_above  \\\n",
       "0           1444      2.0            0      0  ...         1080   \n",
       "1          10125      2.0            0      0  ...         2470   \n",
       "2           7435      1.0            0      0  ...         1140   \n",
       "3           6198      1.5            0      0  ...         1460   \n",
       "4           6720      1.0            0      0  ...          670   \n",
       "...          ...      ...          ...    ...  ...          ...   \n",
       "17271       7523      1.0            0      0  ...         1170   \n",
       "17272       1200      3.0            0      0  ...         1190   \n",
       "17273       5000      2.5            0      0  ...         2780   \n",
       "17274       5212      1.0            0      0  ...          910   \n",
       "17275       5600      1.5            0      0  ...         1430   \n",
       "\n",
       "        sqft_basement   yr_built   yr_renovated   zip_code      lat      lon  \\\n",
       "0                 540       2007              0      98144  47.5892 -122.309   \n",
       "1                   0       1960           2012      98040  47.5651 -122.223   \n",
       "2                   0       1952           1990      98125  47.7300 -122.310   \n",
       "3                   0       1916              0      98107  47.6626 -122.361   \n",
       "4                   0       1942              0      98126  47.5151 -122.372   \n",
       "...               ...        ...            ...        ...      ...      ...   \n",
       "17271             640       1962           1980      98027  47.5695 -122.087   \n",
       "17272               0       2008              0      98103  47.6542 -122.346   \n",
       "17273             140       1908              0      98122  47.6024 -122.295   \n",
       "17274               0       1951              0      98115  47.6742 -122.284   \n",
       "17275               0       1947              0      98118  47.5192 -122.266   \n",
       "\n",
       "        sqft_living15   sqft_lot15   price  \n",
       "0                1660         1642  525000  \n",
       "1                2290        10125  970500  \n",
       "2                1320         9385  327000  \n",
       "3                2280         5160  775000  \n",
       "4                 710         6720  304950  \n",
       "...               ...          ...     ...  \n",
       "17271            2090         7523  501000  \n",
       "17272            1180         1224  475000  \n",
       "17273            2020         5000  823000  \n",
       "17274            1520         6300  565000  \n",
       "17275            1860         5980  133000  \n",
       "\n",
       "[17276 rows x 22 columns]"
      ]
     },
     "execution_count": 2,
     "metadata": {},
     "output_type": "execute_result"
    }
   ],
   "source": [
    "#importing df\n",
    "\n",
    "data = pd.read_csv('train_boston (1).csv')\n",
    "data"
   ]
  },
  {
   "cell_type": "markdown",
   "metadata": {},
   "source": [
    "# Data cleaning"
   ]
  },
  {
   "cell_type": "code",
   "execution_count": 3,
   "metadata": {},
   "outputs": [],
   "source": [
    "# dropping index, lat & lon column\n",
    "\n",
    "data = data.drop(['index',' lat',' lon'], axis=1)"
   ]
  },
  {
   "cell_type": "code",
   "execution_count": 4,
   "metadata": {
    "scrolled": true
   },
   "outputs": [
    {
     "data": {
      "text/plain": [
       "(17276, 19)"
      ]
     },
     "execution_count": 4,
     "metadata": {},
     "output_type": "execute_result"
    }
   ],
   "source": [
    "data.shape"
   ]
  },
  {
   "cell_type": "code",
   "execution_count": 5,
   "metadata": {},
   "outputs": [
    {
     "data": {
      "text/plain": [
       " id                 int64\n",
       " data              object\n",
       " bedrooms           int64\n",
       " bathrooms        float64\n",
       " sqft_living        int64\n",
       " sqft_lot           int64\n",
       " floors           float64\n",
       " waterfront         int64\n",
       " view               int64\n",
       " condition          int64\n",
       " grade              int64\n",
       " sqft_above         int64\n",
       " sqft_basement      int64\n",
       " yr_built           int64\n",
       " yr_renovated       int64\n",
       " zip_code           int64\n",
       " sqft_living15      int64\n",
       " sqft_lot15         int64\n",
       " price              int64\n",
       "dtype: object"
      ]
     },
     "execution_count": 5,
     "metadata": {},
     "output_type": "execute_result"
    }
   ],
   "source": [
    "data.dtypes"
   ]
  },
  {
   "cell_type": "code",
   "execution_count": 6,
   "metadata": {},
   "outputs": [
    {
     "data": {
      "text/plain": [
       "Index([' id', ' data', ' bedrooms', ' bathrooms', ' sqft_living', ' sqft_lot',\n",
       "       ' floors', ' waterfront', ' view', ' condition', ' grade',\n",
       "       ' sqft_above', ' sqft_basement', ' yr_built', ' yr_renovated',\n",
       "       ' zip_code', ' sqft_living15', ' sqft_lot15', ' price'],\n",
       "      dtype='object')"
      ]
     },
     "execution_count": 6,
     "metadata": {},
     "output_type": "execute_result"
    }
   ],
   "source": [
    "data.columns"
   ]
  },
  {
   "cell_type": "code",
   "execution_count": 7,
   "metadata": {},
   "outputs": [],
   "source": [
    "# changing columns names (getting rid of spaces)\n",
    "\n",
    "data.columns = data.columns.str.replace(' ', '')"
   ]
  },
  {
   "cell_type": "code",
   "execution_count": 8,
   "metadata": {},
   "outputs": [],
   "source": [
    "# correcting column name\n",
    "\n",
    "data = data.rename(columns={\"data\": \"date\"})"
   ]
  },
  {
   "cell_type": "code",
   "execution_count": 9,
   "metadata": {},
   "outputs": [],
   "source": [
    "# setting id as index\n",
    "\n",
    "data = data.set_index('id')"
   ]
  },
  {
   "cell_type": "code",
   "execution_count": 10,
   "metadata": {},
   "outputs": [
    {
     "data": {
      "text/plain": [
       "Index(['date', 'bedrooms', 'bathrooms', 'sqft_living', 'sqft_lot', 'floors',\n",
       "       'waterfront', 'view', 'condition', 'grade', 'sqft_above',\n",
       "       'sqft_basement', 'yr_built', 'yr_renovated', 'zip_code',\n",
       "       'sqft_living15', 'sqft_lot15', 'price'],\n",
       "      dtype='object')"
      ]
     },
     "execution_count": 10,
     "metadata": {},
     "output_type": "execute_result"
    }
   ],
   "source": [
    "data.columns"
   ]
  },
  {
   "cell_type": "code",
   "execution_count": 11,
   "metadata": {},
   "outputs": [],
   "source": [
    "# chaning date's data type\n",
    "\n",
    "data['date']= pd.to_datetime(data['date'])"
   ]
  },
  {
   "cell_type": "code",
   "execution_count": 12,
   "metadata": {
    "scrolled": false
   },
   "outputs": [
    {
     "data": {
      "text/plain": [
       "date             datetime64[ns]\n",
       "bedrooms                  int64\n",
       "bathrooms               float64\n",
       "sqft_living               int64\n",
       "sqft_lot                  int64\n",
       "floors                  float64\n",
       "waterfront                int64\n",
       "view                      int64\n",
       "condition                 int64\n",
       "grade                     int64\n",
       "sqft_above                int64\n",
       "sqft_basement             int64\n",
       "yr_built                  int64\n",
       "yr_renovated              int64\n",
       "zip_code                  int64\n",
       "sqft_living15             int64\n",
       "sqft_lot15                int64\n",
       "price                     int64\n",
       "dtype: object"
      ]
     },
     "execution_count": 12,
     "metadata": {},
     "output_type": "execute_result"
    }
   ],
   "source": [
    "data.dtypes"
   ]
  },
  {
   "cell_type": "code",
   "execution_count": 13,
   "metadata": {},
   "outputs": [],
   "source": [
    "# Changing data types\n",
    "\n",
    "data[['bathrooms','bedrooms','view','waterfront','floors','condition','grade','zip_code','yr_built','yr_renovated']] = data[['bathrooms','bedrooms','view','waterfront','floors','condition','grade','zip_code','yr_built','yr_renovated']].astype('object')"
   ]
  },
  {
   "cell_type": "code",
   "execution_count": 14,
   "metadata": {},
   "outputs": [
    {
     "data": {
      "text/plain": [
       "date             datetime64[ns]\n",
       "bedrooms                 object\n",
       "bathrooms                object\n",
       "sqft_living               int64\n",
       "sqft_lot                  int64\n",
       "floors                   object\n",
       "waterfront               object\n",
       "view                     object\n",
       "condition                object\n",
       "grade                    object\n",
       "sqft_above                int64\n",
       "sqft_basement             int64\n",
       "yr_built                 object\n",
       "yr_renovated             object\n",
       "zip_code                 object\n",
       "sqft_living15             int64\n",
       "sqft_lot15                int64\n",
       "price                     int64\n",
       "dtype: object"
      ]
     },
     "execution_count": 14,
     "metadata": {},
     "output_type": "execute_result"
    }
   ],
   "source": [
    "data.dtypes"
   ]
  },
  {
   "cell_type": "code",
   "execution_count": 15,
   "metadata": {
    "scrolled": false
   },
   "outputs": [
    {
     "data": {
      "text/plain": [
       "date             0\n",
       "bedrooms         0\n",
       "bathrooms        0\n",
       "sqft_living      0\n",
       "sqft_lot         0\n",
       "floors           0\n",
       "waterfront       0\n",
       "view             0\n",
       "condition        0\n",
       "grade            0\n",
       "sqft_above       0\n",
       "sqft_basement    0\n",
       "yr_built         0\n",
       "yr_renovated     0\n",
       "zip_code         0\n",
       "sqft_living15    0\n",
       "sqft_lot15       0\n",
       "price            0\n",
       "dtype: int64"
      ]
     },
     "execution_count": 15,
     "metadata": {},
     "output_type": "execute_result"
    }
   ],
   "source": [
    "# Checking for nulls\n",
    "\n",
    "data.isna().sum()"
   ]
  },
  {
   "cell_type": "code",
   "execution_count": 16,
   "metadata": {
    "scrolled": true
   },
   "outputs": [],
   "source": [
    "#tried bucketing zip codes but the model didn't improve...\n",
    "\n",
    "#zip_avg = data.groupby('zip_code').agg({'price': np.mean})\n",
    "#mapping = {5: zip_avg[zip_avg['price'] > 1200000].index, 4: zip_avg[(zip_avg['price'] <= 1200000) & (zip_avg['price'] > 650000)].index, 3: zip_avg[(zip_avg['price'] <= 650000) & (zip_avg['price'] > 400000)].index, 2: zip_avg[(zip_avg['price'] <= 400000) & (zip_avg['price'] > 250000)].index, 1: zip_avg[zip_avg['price'] <= 250000].index}\n",
    "#data['neighborhoods'] = data['zip_code'].apply(lambda x: [key for key, zip_codes in mapping.items() if x in zip_codes][0])\n",
    "#data "
   ]
  },
  {
   "cell_type": "code",
   "execution_count": 17,
   "metadata": {},
   "outputs": [
    {
     "data": {
      "text/plain": [
       "date             datetime64[ns]\n",
       "bedrooms                 object\n",
       "bathrooms                object\n",
       "sqft_living               int64\n",
       "sqft_lot                  int64\n",
       "floors                   object\n",
       "waterfront               object\n",
       "view                     object\n",
       "condition                object\n",
       "grade                    object\n",
       "sqft_above                int64\n",
       "sqft_basement             int64\n",
       "yr_built                 object\n",
       "yr_renovated             object\n",
       "zip_code                 object\n",
       "sqft_living15             int64\n",
       "sqft_lot15                int64\n",
       "price                     int64\n",
       "dtype: object"
      ]
     },
     "execution_count": 17,
     "metadata": {},
     "output_type": "execute_result"
    }
   ],
   "source": [
    "data.dtypes"
   ]
  },
  {
   "cell_type": "code",
   "execution_count": 18,
   "metadata": {},
   "outputs": [],
   "source": [
    "data_num = data.select_dtypes(np.number)\n",
    "data_cat = data.select_dtypes(np.object)"
   ]
  },
  {
   "cell_type": "markdown",
   "metadata": {},
   "source": [
    "# EDA"
   ]
  },
  {
   "cell_type": "code",
   "execution_count": 19,
   "metadata": {
    "scrolled": false
   },
   "outputs": [
    {
     "data": {
      "image/png": "[encoded data removed]",
      "text/plain": [
       "<Figure size 432x288 with 1 Axes>"
      ]
     },
     "metadata": {
      "needs_background": "light"
     },
     "output_type": "display_data"
    },
    {
     "data": {
      "image/png": "[encoded data removed]",
      "text/plain": [
       "<Figure size 432x288 with 1 Axes>"
      ]
     },
     "metadata": {
      "needs_background": "light"
     },
     "output_type": "display_data"
    },
    {
     "data": {
      "image/png": "[encoded data removed]",
      "text/plain": [
       "<Figure size 432x288 with 1 Axes>"
      ]
     },
     "metadata": {
      "needs_background": "light"
     },
     "output_type": "display_data"
    },
    {
     "data": {
      "image/png": "[encoded data removed]",
      "text/plain": [
       "<Figure size 432x288 with 1 Axes>"
      ]
     },
     "metadata": {
      "needs_background": "light"
     },
     "output_type": "display_data"
    },
    {
     "data": {
      "image/png": "[encoded data removed]",
      "text/plain": [
       "<Figure size 432x288 with 1 Axes>"
      ]
     },
     "metadata": {
      "needs_background": "light"
     },
     "output_type": "display_data"
    },
    {
     "data": {
      "image/png": "[encoded data removed]",
      "text/plain": [
       "<Figure size 432x288 with 1 Axes>"
      ]
     },
     "metadata": {
      "needs_background": "light"
     },
     "output_type": "display_data"
    },
    {
     "data": {
      "image/png": "[encoded data removed]",
      "text/plain": [
       "<Figure size 432x288 with 1 Axes>"
      ]
     },
     "metadata": {
      "needs_background": "light"
     },
     "output_type": "display_data"
    }
   ],
   "source": [
    "# Checking data distributions\n",
    "\n",
    "for column in data_num:\n",
    "    sns.distplot(data_num[column])\n",
    "    plt.show()"
   ]
  },
  {
   "cell_type": "code",
   "execution_count": 20,
   "metadata": {
    "scrolled": true
   },
   "outputs": [
    {
     "data": {
      "text/html": [
       "<div>\n",
       "<style scoped>\n",
       "    .dataframe tbody tr th:only-of-type {\n",
       "        vertical-align: middle;\n",
       "    }\n",
       "\n",
       "    .dataframe tbody tr th {\n",
       "        vertical-align: top;\n",
       "    }\n",
       "\n",
       "    .dataframe thead th {\n",
       "        text-align: right;\n",
       "    }\n",
       "</style>\n",
       "<table border=\"1\" class=\"dataframe\">\n",
       "  <thead>\n",
       "    <tr style=\"text-align: right;\">\n",
       "      <th></th>\n",
       "      <th>sqft_living</th>\n",
       "      <th>sqft_lot</th>\n",
       "      <th>sqft_above</th>\n",
       "      <th>sqft_basement</th>\n",
       "      <th>sqft_living15</th>\n",
       "      <th>sqft_lot15</th>\n",
       "      <th>price</th>\n",
       "    </tr>\n",
       "  </thead>\n",
       "  <tbody>\n",
       "    <tr>\n",
       "      <th>count</th>\n",
       "      <td>17276.000000</td>\n",
       "      <td>1.727600e+04</td>\n",
       "      <td>17276.000000</td>\n",
       "      <td>17276.000000</td>\n",
       "      <td>17276.000000</td>\n",
       "      <td>17276.000000</td>\n",
       "      <td>1.727600e+04</td>\n",
       "    </tr>\n",
       "    <tr>\n",
       "      <th>mean</th>\n",
       "      <td>2084.123177</td>\n",
       "      <td>1.508619e+04</td>\n",
       "      <td>1791.053542</td>\n",
       "      <td>293.069634</td>\n",
       "      <td>1988.115825</td>\n",
       "      <td>12648.988307</td>\n",
       "      <td>5.408807e+05</td>\n",
       "    </tr>\n",
       "    <tr>\n",
       "      <th>std</th>\n",
       "      <td>924.621058</td>\n",
       "      <td>4.147208e+04</td>\n",
       "      <td>830.925292</td>\n",
       "      <td>445.900684</td>\n",
       "      <td>687.864331</td>\n",
       "      <td>25805.732442</td>\n",
       "      <td>3.732611e+05</td>\n",
       "    </tr>\n",
       "    <tr>\n",
       "      <th>min</th>\n",
       "      <td>370.000000</td>\n",
       "      <td>5.200000e+02</td>\n",
       "      <td>370.000000</td>\n",
       "      <td>0.000000</td>\n",
       "      <td>460.000000</td>\n",
       "      <td>651.000000</td>\n",
       "      <td>8.000000e+04</td>\n",
       "    </tr>\n",
       "    <tr>\n",
       "      <th>25%</th>\n",
       "      <td>1420.000000</td>\n",
       "      <td>5.030000e+03</td>\n",
       "      <td>1190.000000</td>\n",
       "      <td>0.000000</td>\n",
       "      <td>1490.000000</td>\n",
       "      <td>5100.000000</td>\n",
       "      <td>3.210202e+05</td>\n",
       "    </tr>\n",
       "    <tr>\n",
       "      <th>50%</th>\n",
       "      <td>1920.000000</td>\n",
       "      <td>7.599000e+03</td>\n",
       "      <td>1570.000000</td>\n",
       "      <td>0.000000</td>\n",
       "      <td>1840.000000</td>\n",
       "      <td>7614.000000</td>\n",
       "      <td>4.500000e+05</td>\n",
       "    </tr>\n",
       "    <tr>\n",
       "      <th>75%</th>\n",
       "      <td>2556.250000</td>\n",
       "      <td>1.069850e+04</td>\n",
       "      <td>2220.000000</td>\n",
       "      <td>560.000000</td>\n",
       "      <td>2360.000000</td>\n",
       "      <td>10093.250000</td>\n",
       "      <td>6.442125e+05</td>\n",
       "    </tr>\n",
       "    <tr>\n",
       "      <th>max</th>\n",
       "      <td>13540.000000</td>\n",
       "      <td>1.651359e+06</td>\n",
       "      <td>9410.000000</td>\n",
       "      <td>4820.000000</td>\n",
       "      <td>6210.000000</td>\n",
       "      <td>560617.000000</td>\n",
       "      <td>7.700000e+06</td>\n",
       "    </tr>\n",
       "  </tbody>\n",
       "</table>\n",
       "</div>"
      ],
      "text/plain": [
       "        sqft_living      sqft_lot    sqft_above  sqft_basement  sqft_living15  \\\n",
       "count  17276.000000  1.727600e+04  17276.000000   17276.000000   17276.000000   \n",
       "mean    2084.123177  1.508619e+04   1791.053542     293.069634    1988.115825   \n",
       "std      924.621058  4.147208e+04    830.925292     445.900684     687.864331   \n",
       "min      370.000000  5.200000e+02    370.000000       0.000000     460.000000   \n",
       "25%     1420.000000  5.030000e+03   1190.000000       0.000000    1490.000000   \n",
       "50%     1920.000000  7.599000e+03   1570.000000       0.000000    1840.000000   \n",
       "75%     2556.250000  1.069850e+04   2220.000000     560.000000    2360.000000   \n",
       "max    13540.000000  1.651359e+06   9410.000000    4820.000000    6210.000000   \n",
       "\n",
       "          sqft_lot15         price  \n",
       "count   17276.000000  1.727600e+04  \n",
       "mean    12648.988307  5.408807e+05  \n",
       "std     25805.732442  3.732611e+05  \n",
       "min       651.000000  8.000000e+04  \n",
       "25%      5100.000000  3.210202e+05  \n",
       "50%      7614.000000  4.500000e+05  \n",
       "75%     10093.250000  6.442125e+05  \n",
       "max    560617.000000  7.700000e+06  "
      ]
     },
     "execution_count": 20,
     "metadata": {},
     "output_type": "execute_result"
    }
   ],
   "source": [
    "data.describe()"
   ]
  },
  {
   "cell_type": "code",
   "execution_count": 21,
   "metadata": {
    "scrolled": false
   },
   "outputs": [
    {
     "data": {
      "image/png": "[encoded data removed]",
      "text/plain": [
       "<Figure size 432x288 with 1 Axes>"
      ]
     },
     "metadata": {
      "needs_background": "light"
     },
     "output_type": "display_data"
    },
    {
     "data": {
      "image/png": "[encoded data removed]",
      "text/plain": [
       "<Figure size 432x288 with 1 Axes>"
      ]
     },
     "metadata": {
      "needs_background": "light"
     },
     "output_type": "display_data"
    },
    {
     "data": {
      "image/png": "[encoded data removed]",
      "text/plain": [
       "<Figure size 432x288 with 1 Axes>"
      ]
     },
     "metadata": {
      "needs_background": "light"
     },
     "output_type": "display_data"
    },
    {
     "data": {
      "image/png": "[encoded data removed]",
      "text/plain": [
       "<Figure size 432x288 with 1 Axes>"
      ]
     },
     "metadata": {
      "needs_background": "light"
     },
     "output_type": "display_data"
    },
    {
     "data": {
      "image/png": "[encoded data removed]",
      "text/plain": [
       "<Figure size 432x288 with 1 Axes>"
      ]
     },
     "metadata": {
      "needs_background": "light"
     },
     "output_type": "display_data"
    },
    {
     "data": {
      "image/png": "[encoded data removed]",
      "text/plain": [
       "<Figure size 432x288 with 1 Axes>"
      ]
     },
     "metadata": {
      "needs_background": "light"
     },
     "output_type": "display_data"
    },
    {
     "data": {
      "image/png": "[encoded data removed]",
      "text/plain": [
       "<Figure size 432x288 with 1 Axes>"
      ]
     },
     "metadata": {
      "needs_background": "light"
     },
     "output_type": "display_data"
    }
   ],
   "source": [
    "# checking for outliers\n",
    "\n",
    "for column in data_num:\n",
    "    sns.boxplot(data_num[column])\n",
    "    plt.show()"
   ]
  },
  {
   "cell_type": "code",
   "execution_count": 22,
   "metadata": {},
   "outputs": [],
   "source": [
    "# Saving data into a csv to work on EDA (Tabelau)\n",
    "data.to_csv(r'\\DATA.csv')"
   ]
  },
  {
   "cell_type": "code",
   "execution_count": 23,
   "metadata": {},
   "outputs": [
    {
     "data": {
      "text/html": [
       "<div>\n",
       "<style scoped>\n",
       "    .dataframe tbody tr th:only-of-type {\n",
       "        vertical-align: middle;\n",
       "    }\n",
       "\n",
       "    .dataframe tbody tr th {\n",
       "        vertical-align: top;\n",
       "    }\n",
       "\n",
       "    .dataframe thead th {\n",
       "        text-align: right;\n",
       "    }\n",
       "</style>\n",
       "<table border=\"1\" class=\"dataframe\">\n",
       "  <thead>\n",
       "    <tr style=\"text-align: right;\">\n",
       "      <th></th>\n",
       "      <th>sqft_living</th>\n",
       "      <th>sqft_lot</th>\n",
       "      <th>sqft_above</th>\n",
       "      <th>sqft_basement</th>\n",
       "      <th>sqft_living15</th>\n",
       "      <th>sqft_lot15</th>\n",
       "      <th>price</th>\n",
       "    </tr>\n",
       "  </thead>\n",
       "  <tbody>\n",
       "    <tr>\n",
       "      <th>sqft_living</th>\n",
       "      <td>1.000000</td>\n",
       "      <td>0.307574</td>\n",
       "      <td>0.844028</td>\n",
       "      <td>0.327502</td>\n",
       "      <td>0.747668</td>\n",
       "      <td>0.288640</td>\n",
       "      <td>0.645069</td>\n",
       "    </tr>\n",
       "    <tr>\n",
       "      <th>sqft_lot</th>\n",
       "      <td>0.307574</td>\n",
       "      <td>1.000000</td>\n",
       "      <td>0.276877</td>\n",
       "      <td>0.034232</td>\n",
       "      <td>0.363834</td>\n",
       "      <td>0.923287</td>\n",
       "      <td>0.081348</td>\n",
       "    </tr>\n",
       "    <tr>\n",
       "      <th>sqft_above</th>\n",
       "      <td>0.844028</td>\n",
       "      <td>0.276877</td>\n",
       "      <td>1.000000</td>\n",
       "      <td>-0.165489</td>\n",
       "      <td>0.697959</td>\n",
       "      <td>0.259850</td>\n",
       "      <td>0.541710</td>\n",
       "    </tr>\n",
       "    <tr>\n",
       "      <th>sqft_basement</th>\n",
       "      <td>0.327502</td>\n",
       "      <td>0.034232</td>\n",
       "      <td>-0.165489</td>\n",
       "      <td>1.000000</td>\n",
       "      <td>0.128566</td>\n",
       "      <td>0.028845</td>\n",
       "      <td>0.254142</td>\n",
       "    </tr>\n",
       "    <tr>\n",
       "      <th>sqft_living15</th>\n",
       "      <td>0.747668</td>\n",
       "      <td>0.363834</td>\n",
       "      <td>0.697959</td>\n",
       "      <td>0.128566</td>\n",
       "      <td>1.000000</td>\n",
       "      <td>0.371972</td>\n",
       "      <td>0.573796</td>\n",
       "    </tr>\n",
       "    <tr>\n",
       "      <th>sqft_lot15</th>\n",
       "      <td>0.288640</td>\n",
       "      <td>0.923287</td>\n",
       "      <td>0.259850</td>\n",
       "      <td>0.028845</td>\n",
       "      <td>0.371972</td>\n",
       "      <td>1.000000</td>\n",
       "      <td>0.068976</td>\n",
       "    </tr>\n",
       "    <tr>\n",
       "      <th>price</th>\n",
       "      <td>0.645069</td>\n",
       "      <td>0.081348</td>\n",
       "      <td>0.541710</td>\n",
       "      <td>0.254142</td>\n",
       "      <td>0.573796</td>\n",
       "      <td>0.068976</td>\n",
       "      <td>1.000000</td>\n",
       "    </tr>\n",
       "  </tbody>\n",
       "</table>\n",
       "</div>"
      ],
      "text/plain": [
       "               sqft_living  sqft_lot  sqft_above  sqft_basement  \\\n",
       "sqft_living       1.000000  0.307574    0.844028       0.327502   \n",
       "sqft_lot          0.307574  1.000000    0.276877       0.034232   \n",
       "sqft_above        0.844028  0.276877    1.000000      -0.165489   \n",
       "sqft_basement     0.327502  0.034232   -0.165489       1.000000   \n",
       "sqft_living15     0.747668  0.363834    0.697959       0.128566   \n",
       "sqft_lot15        0.288640  0.923287    0.259850       0.028845   \n",
       "price             0.645069  0.081348    0.541710       0.254142   \n",
       "\n",
       "               sqft_living15  sqft_lot15     price  \n",
       "sqft_living         0.747668    0.288640  0.645069  \n",
       "sqft_lot            0.363834    0.923287  0.081348  \n",
       "sqft_above          0.697959    0.259850  0.541710  \n",
       "sqft_basement       0.128566    0.028845  0.254142  \n",
       "sqft_living15       1.000000    0.371972  0.573796  \n",
       "sqft_lot15          0.371972    1.000000  0.068976  \n",
       "price               0.573796    0.068976  1.000000  "
      ]
     },
     "execution_count": 23,
     "metadata": {},
     "output_type": "execute_result"
    }
   ],
   "source": [
    "# Checking data correlation\n",
    "\n",
    "data_corr = data_num.corr(method='spearman')\n",
    "data_corr"
   ]
  },
  {
   "cell_type": "code",
   "execution_count": 24,
   "metadata": {
    "scrolled": true
   },
   "outputs": [
    {
     "data": {
      "image/png": "[encoded data removed]",
      "text/plain": [
       "<Figure size 720x576 with 2 Axes>"
      ]
     },
     "metadata": {
      "needs_background": "light"
     },
     "output_type": "display_data"
    }
   ],
   "source": [
    "# visualising data correlation\n",
    "\n",
    "mask = np.zeros_like(data_corr)\n",
    "\n",
    "mask[np.triu_indices_from(mask)] = True \n",
    "\n",
    "fig, ax = plt.subplots(figsize=(10, 8))\n",
    "ax = sns.heatmap(data_corr, mask=mask, annot=True)\n",
    "plt.show()"
   ]
  },
  {
   "cell_type": "code",
   "execution_count": 25,
   "metadata": {
    "scrolled": true
   },
   "outputs": [
    {
     "data": {
      "text/plain": [
       "price            1.000000\n",
       "sqft_living      0.705890\n",
       "sqft_above       0.607706\n",
       "sqft_living15    0.585543\n",
       "sqft_basement    0.331291\n",
       "sqft_lot         0.092304\n",
       "sqft_lot15       0.089045\n",
       "Name: price, dtype: float64"
      ]
     },
     "execution_count": 25,
     "metadata": {},
     "output_type": "execute_result"
    }
   ],
   "source": [
    "# checking data correlation with target variable\n",
    "\n",
    "data.corr()['price'].sort_values(ascending=False)"
   ]
  },
  {
   "cell_type": "code",
   "execution_count": 26,
   "metadata": {
    "scrolled": false
   },
   "outputs": [
    {
     "data": {
      "text/plain": [
       "date             datetime64[ns]\n",
       "bedrooms                 object\n",
       "bathrooms                object\n",
       "sqft_living               int64\n",
       "sqft_lot                  int64\n",
       "floors                   object\n",
       "waterfront               object\n",
       "view                     object\n",
       "condition                object\n",
       "grade                    object\n",
       "sqft_above                int64\n",
       "sqft_basement             int64\n",
       "yr_built                 object\n",
       "yr_renovated             object\n",
       "zip_code                 object\n",
       "sqft_living15             int64\n",
       "sqft_lot15                int64\n",
       "price                     int64\n",
       "dtype: object"
      ]
     },
     "execution_count": 26,
     "metadata": {},
     "output_type": "execute_result"
    }
   ],
   "source": [
    "data.dtypes"
   ]
  },
  {
   "cell_type": "markdown",
   "metadata": {},
   "source": [
    "# Dealing with outliers"
   ]
  },
  {
   "cell_type": "code",
   "execution_count": 27,
   "metadata": {},
   "outputs": [],
   "source": [
    "# removing outliers\n",
    "\n",
    "for column in data_num:\n",
    "    upper = np.percentile(data_num[column],75)\n",
    "    lower = np.percentile(data_num[column],25)\n",
    "    iqr = upper - lower\n",
    "    upper_limit = upper + 1.5 * iqr\n",
    "    lower_limit = lower - 1.5 * iqr\n",
    "    clean_data_num = data_num[(data_num[column]>lower_limit) & (data_num[column]<upper_limit)]"
   ]
  },
  {
   "cell_type": "markdown",
   "metadata": {},
   "source": [
    "# Feature scaling"
   ]
  },
  {
   "cell_type": "code",
   "execution_count": 28,
   "metadata": {},
   "outputs": [],
   "source": [
    "#log boxcox\n",
    "\n",
    "def boxcox_transform(clean_data_num):\n",
    "    numeric_cols = clean_data_num.select_dtypes(np.number).columns\n",
    "    _ci = {column: None for column in numeric_cols}\n",
    "    for column in numeric_cols:\n",
    "        clean_data_num[column] = np.where(clean_data_num[column]<=0, np.NAN, clean_data_num[column]) \n",
    "        clean_data_num[column] = clean_data_num[column].fillna(clean_data_num[column].mean())\n",
    "        transformed_data, ci = stats.boxcox(clean_data_num[column])\n",
    "        clean_data_num[column] = transformed_data\n",
    "        _ci[column] = ci\n",
    "    return clean_data_num, _ci"
   ]
  },
  {
   "cell_type": "code",
   "execution_count": 29,
   "metadata": {},
   "outputs": [],
   "source": [
    "clean_data_num, _ci = boxcox_transform(clean_data_num)"
   ]
  },
  {
   "cell_type": "code",
   "execution_count": 30,
   "metadata": {},
   "outputs": [
    {
     "data": {
      "text/html": [
       "<div>\n",
       "<style scoped>\n",
       "    .dataframe tbody tr th:only-of-type {\n",
       "        vertical-align: middle;\n",
       "    }\n",
       "\n",
       "    .dataframe tbody tr th {\n",
       "        vertical-align: top;\n",
       "    }\n",
       "\n",
       "    .dataframe thead th {\n",
       "        text-align: right;\n",
       "    }\n",
       "</style>\n",
       "<table border=\"1\" class=\"dataframe\">\n",
       "  <thead>\n",
       "    <tr style=\"text-align: right;\">\n",
       "      <th></th>\n",
       "      <th>bedrooms</th>\n",
       "      <th>bathrooms</th>\n",
       "      <th>floors</th>\n",
       "      <th>waterfront</th>\n",
       "      <th>view</th>\n",
       "      <th>condition</th>\n",
       "      <th>grade</th>\n",
       "      <th>yr_built</th>\n",
       "      <th>yr_renovated</th>\n",
       "      <th>zip_code</th>\n",
       "      <th>sqft_living</th>\n",
       "      <th>sqft_lot</th>\n",
       "      <th>sqft_above</th>\n",
       "      <th>sqft_basement</th>\n",
       "      <th>sqft_living15</th>\n",
       "      <th>sqft_lot15</th>\n",
       "      <th>price</th>\n",
       "    </tr>\n",
       "    <tr>\n",
       "      <th>id</th>\n",
       "      <th></th>\n",
       "      <th></th>\n",
       "      <th></th>\n",
       "      <th></th>\n",
       "      <th></th>\n",
       "      <th></th>\n",
       "      <th></th>\n",
       "      <th></th>\n",
       "      <th></th>\n",
       "      <th></th>\n",
       "      <th></th>\n",
       "      <th></th>\n",
       "      <th></th>\n",
       "      <th></th>\n",
       "      <th></th>\n",
       "      <th></th>\n",
       "      <th></th>\n",
       "    </tr>\n",
       "  </thead>\n",
       "  <tbody>\n",
       "    <tr>\n",
       "      <th>1000102</th>\n",
       "      <td>6</td>\n",
       "      <td>3</td>\n",
       "      <td>2</td>\n",
       "      <td>0</td>\n",
       "      <td>0</td>\n",
       "      <td>3</td>\n",
       "      <td>7</td>\n",
       "      <td>1991</td>\n",
       "      <td>0</td>\n",
       "      <td>98002</td>\n",
       "      <td>17.765557</td>\n",
       "      <td>4.372856</td>\n",
       "      <td>4.136630</td>\n",
       "      <td>200.247817</td>\n",
       "      <td>4.650963</td>\n",
       "      <td>4.169158</td>\n",
       "      <td>41.395570</td>\n",
       "    </tr>\n",
       "    <tr>\n",
       "      <th>1000102</th>\n",
       "      <td>6</td>\n",
       "      <td>3</td>\n",
       "      <td>2</td>\n",
       "      <td>0</td>\n",
       "      <td>0</td>\n",
       "      <td>3</td>\n",
       "      <td>7</td>\n",
       "      <td>1991</td>\n",
       "      <td>0</td>\n",
       "      <td>98002</td>\n",
       "      <td>17.765557</td>\n",
       "      <td>4.372856</td>\n",
       "      <td>4.136630</td>\n",
       "      <td>200.247817</td>\n",
       "      <td>4.650963</td>\n",
       "      <td>4.169158</td>\n",
       "      <td>41.934284</td>\n",
       "    </tr>\n",
       "    <tr>\n",
       "      <th>1000102</th>\n",
       "      <td>6</td>\n",
       "      <td>3</td>\n",
       "      <td>2</td>\n",
       "      <td>0</td>\n",
       "      <td>0</td>\n",
       "      <td>3</td>\n",
       "      <td>7</td>\n",
       "      <td>1991</td>\n",
       "      <td>0</td>\n",
       "      <td>98002</td>\n",
       "      <td>17.765557</td>\n",
       "      <td>4.372856</td>\n",
       "      <td>4.136630</td>\n",
       "      <td>200.247817</td>\n",
       "      <td>4.650963</td>\n",
       "      <td>4.169158</td>\n",
       "      <td>41.395570</td>\n",
       "    </tr>\n",
       "    <tr>\n",
       "      <th>1000102</th>\n",
       "      <td>6</td>\n",
       "      <td>3</td>\n",
       "      <td>2</td>\n",
       "      <td>0</td>\n",
       "      <td>0</td>\n",
       "      <td>3</td>\n",
       "      <td>7</td>\n",
       "      <td>1991</td>\n",
       "      <td>0</td>\n",
       "      <td>98002</td>\n",
       "      <td>17.765557</td>\n",
       "      <td>4.372856</td>\n",
       "      <td>4.136630</td>\n",
       "      <td>200.247817</td>\n",
       "      <td>4.650963</td>\n",
       "      <td>4.169158</td>\n",
       "      <td>41.934284</td>\n",
       "    </tr>\n",
       "    <tr>\n",
       "      <th>1200019</th>\n",
       "      <td>4</td>\n",
       "      <td>1.75</td>\n",
       "      <td>1</td>\n",
       "      <td>0</td>\n",
       "      <td>0</td>\n",
       "      <td>4</td>\n",
       "      <td>8</td>\n",
       "      <td>1947</td>\n",
       "      <td>0</td>\n",
       "      <td>98166</td>\n",
       "      <td>17.108736</td>\n",
       "      <td>4.540159</td>\n",
       "      <td>3.950893</td>\n",
       "      <td>242.125706</td>\n",
       "      <td>4.726864</td>\n",
       "      <td>4.336707</td>\n",
       "      <td>48.371540</td>\n",
       "    </tr>\n",
       "    <tr>\n",
       "      <th>...</th>\n",
       "      <td>...</td>\n",
       "      <td>...</td>\n",
       "      <td>...</td>\n",
       "      <td>...</td>\n",
       "      <td>...</td>\n",
       "      <td>...</td>\n",
       "      <td>...</td>\n",
       "      <td>...</td>\n",
       "      <td>...</td>\n",
       "      <td>...</td>\n",
       "      <td>...</td>\n",
       "      <td>...</td>\n",
       "      <td>...</td>\n",
       "      <td>...</td>\n",
       "      <td>...</td>\n",
       "      <td>...</td>\n",
       "      <td>...</td>\n",
       "    </tr>\n",
       "    <tr>\n",
       "      <th>9842300036</th>\n",
       "      <td>3</td>\n",
       "      <td>1</td>\n",
       "      <td>1</td>\n",
       "      <td>0</td>\n",
       "      <td>0</td>\n",
       "      <td>4</td>\n",
       "      <td>7</td>\n",
       "      <td>1964</td>\n",
       "      <td>0</td>\n",
       "      <td>98126</td>\n",
       "      <td>15.270264</td>\n",
       "      <td>4.215112</td>\n",
       "      <td>3.983716</td>\n",
       "      <td>200.247817</td>\n",
       "      <td>4.436447</td>\n",
       "      <td>4.067768</td>\n",
       "      <td>44.568749</td>\n",
       "    </tr>\n",
       "    <tr>\n",
       "      <th>9842300095</th>\n",
       "      <td>5</td>\n",
       "      <td>2</td>\n",
       "      <td>1.5</td>\n",
       "      <td>0</td>\n",
       "      <td>0</td>\n",
       "      <td>3</td>\n",
       "      <td>7</td>\n",
       "      <td>1927</td>\n",
       "      <td>0</td>\n",
       "      <td>98126</td>\n",
       "      <td>16.063047</td>\n",
       "      <td>4.215364</td>\n",
       "      <td>4.036119</td>\n",
       "      <td>200.247817</td>\n",
       "      <td>4.458633</td>\n",
       "      <td>4.067859</td>\n",
       "      <td>43.499189</td>\n",
       "    </tr>\n",
       "    <tr>\n",
       "      <th>9842300540</th>\n",
       "      <td>3</td>\n",
       "      <td>1</td>\n",
       "      <td>1</td>\n",
       "      <td>0</td>\n",
       "      <td>0</td>\n",
       "      <td>4</td>\n",
       "      <td>7</td>\n",
       "      <td>1942</td>\n",
       "      <td>0</td>\n",
       "      <td>98126</td>\n",
       "      <td>14.601756</td>\n",
       "      <td>4.213342</td>\n",
       "      <td>3.814840</td>\n",
       "      <td>124.110001</td>\n",
       "      <td>4.543954</td>\n",
       "      <td>4.083910</td>\n",
       "      <td>42.903628</td>\n",
       "    </tr>\n",
       "    <tr>\n",
       "      <th>9895000040</th>\n",
       "      <td>2</td>\n",
       "      <td>1.75</td>\n",
       "      <td>1.5</td>\n",
       "      <td>0</td>\n",
       "      <td>0</td>\n",
       "      <td>3</td>\n",
       "      <td>9</td>\n",
       "      <td>2011</td>\n",
       "      <td>0</td>\n",
       "      <td>98027</td>\n",
       "      <td>15.558411</td>\n",
       "      <td>3.873861</td>\n",
       "      <td>3.879984</td>\n",
       "      <td>155.962718</td>\n",
       "      <td>4.527179</td>\n",
       "      <td>3.796494</td>\n",
       "      <td>44.245147</td>\n",
       "    </tr>\n",
       "    <tr>\n",
       "      <th>9900000190</th>\n",
       "      <td>3</td>\n",
       "      <td>1</td>\n",
       "      <td>1</td>\n",
       "      <td>0</td>\n",
       "      <td>0</td>\n",
       "      <td>3</td>\n",
       "      <td>6</td>\n",
       "      <td>1943</td>\n",
       "      <td>0</td>\n",
       "      <td>98166</td>\n",
       "      <td>15.299866</td>\n",
       "      <td>4.346227</td>\n",
       "      <td>3.873544</td>\n",
       "      <td>139.080412</td>\n",
       "      <td>4.394456</td>\n",
       "      <td>4.186305</td>\n",
       "      <td>41.083972</td>\n",
       "    </tr>\n",
       "  </tbody>\n",
       "</table>\n",
       "<p>16568 rows × 17 columns</p>\n",
       "</div>"
      ],
      "text/plain": [
       "           bedrooms bathrooms floors waterfront view condition grade yr_built  \\\n",
       "id                                                                              \n",
       "1000102           6         3      2          0    0         3     7     1991   \n",
       "1000102           6         3      2          0    0         3     7     1991   \n",
       "1000102           6         3      2          0    0         3     7     1991   \n",
       "1000102           6         3      2          0    0         3     7     1991   \n",
       "1200019           4      1.75      1          0    0         4     8     1947   \n",
       "...             ...       ...    ...        ...  ...       ...   ...      ...   \n",
       "9842300036        3         1      1          0    0         4     7     1964   \n",
       "9842300095        5         2    1.5          0    0         3     7     1927   \n",
       "9842300540        3         1      1          0    0         4     7     1942   \n",
       "9895000040        2      1.75    1.5          0    0         3     9     2011   \n",
       "9900000190        3         1      1          0    0         3     6     1943   \n",
       "\n",
       "           yr_renovated zip_code  sqft_living  sqft_lot  sqft_above  \\\n",
       "id                                                                    \n",
       "1000102               0    98002    17.765557  4.372856    4.136630   \n",
       "1000102               0    98002    17.765557  4.372856    4.136630   \n",
       "1000102               0    98002    17.765557  4.372856    4.136630   \n",
       "1000102               0    98002    17.765557  4.372856    4.136630   \n",
       "1200019               0    98166    17.108736  4.540159    3.950893   \n",
       "...                 ...      ...          ...       ...         ...   \n",
       "9842300036            0    98126    15.270264  4.215112    3.983716   \n",
       "9842300095            0    98126    16.063047  4.215364    4.036119   \n",
       "9842300540            0    98126    14.601756  4.213342    3.814840   \n",
       "9895000040            0    98027    15.558411  3.873861    3.879984   \n",
       "9900000190            0    98166    15.299866  4.346227    3.873544   \n",
       "\n",
       "            sqft_basement  sqft_living15  sqft_lot15      price  \n",
       "id                                                               \n",
       "1000102        200.247817       4.650963    4.169158  41.395570  \n",
       "1000102        200.247817       4.650963    4.169158  41.934284  \n",
       "1000102        200.247817       4.650963    4.169158  41.395570  \n",
       "1000102        200.247817       4.650963    4.169158  41.934284  \n",
       "1200019        242.125706       4.726864    4.336707  48.371540  \n",
       "...                   ...            ...         ...        ...  \n",
       "9842300036     200.247817       4.436447    4.067768  44.568749  \n",
       "9842300095     200.247817       4.458633    4.067859  43.499189  \n",
       "9842300540     124.110001       4.543954    4.083910  42.903628  \n",
       "9895000040     155.962718       4.527179    3.796494  44.245147  \n",
       "9900000190     139.080412       4.394456    4.186305  41.083972  \n",
       "\n",
       "[16568 rows x 17 columns]"
      ]
     },
     "execution_count": 30,
     "metadata": {},
     "output_type": "execute_result"
    }
   ],
   "source": [
    "# adding clean numericals & categoricals\n",
    "\n",
    "table = data_cat.merge(clean_data_num, right_index=True, left_index=True)\n",
    "table"
   ]
  },
  {
   "cell_type": "markdown",
   "metadata": {},
   "source": [
    "# Dummifying"
   ]
  },
  {
   "cell_type": "code",
   "execution_count": 31,
   "metadata": {
    "scrolled": true
   },
   "outputs": [
    {
     "data": {
      "text/html": [
       "<div>\n",
       "<style scoped>\n",
       "    .dataframe tbody tr th:only-of-type {\n",
       "        vertical-align: middle;\n",
       "    }\n",
       "\n",
       "    .dataframe tbody tr th {\n",
       "        vertical-align: top;\n",
       "    }\n",
       "\n",
       "    .dataframe thead th {\n",
       "        text-align: right;\n",
       "    }\n",
       "</style>\n",
       "<table border=\"1\" class=\"dataframe\">\n",
       "  <thead>\n",
       "    <tr style=\"text-align: right;\">\n",
       "      <th></th>\n",
       "      <th>sqft_living</th>\n",
       "      <th>sqft_lot</th>\n",
       "      <th>sqft_above</th>\n",
       "      <th>sqft_basement</th>\n",
       "      <th>sqft_living15</th>\n",
       "      <th>sqft_lot15</th>\n",
       "      <th>price</th>\n",
       "      <th>bedrooms_2</th>\n",
       "      <th>bedrooms_3</th>\n",
       "      <th>bedrooms_4</th>\n",
       "      <th>...</th>\n",
       "      <th>zip_code_98146</th>\n",
       "      <th>zip_code_98148</th>\n",
       "      <th>zip_code_98155</th>\n",
       "      <th>zip_code_98166</th>\n",
       "      <th>zip_code_98168</th>\n",
       "      <th>zip_code_98177</th>\n",
       "      <th>zip_code_98178</th>\n",
       "      <th>zip_code_98188</th>\n",
       "      <th>zip_code_98198</th>\n",
       "      <th>zip_code_98199</th>\n",
       "    </tr>\n",
       "    <tr>\n",
       "      <th>id</th>\n",
       "      <th></th>\n",
       "      <th></th>\n",
       "      <th></th>\n",
       "      <th></th>\n",
       "      <th></th>\n",
       "      <th></th>\n",
       "      <th></th>\n",
       "      <th></th>\n",
       "      <th></th>\n",
       "      <th></th>\n",
       "      <th></th>\n",
       "      <th></th>\n",
       "      <th></th>\n",
       "      <th></th>\n",
       "      <th></th>\n",
       "      <th></th>\n",
       "      <th></th>\n",
       "      <th></th>\n",
       "      <th></th>\n",
       "      <th></th>\n",
       "      <th></th>\n",
       "    </tr>\n",
       "  </thead>\n",
       "  <tbody>\n",
       "    <tr>\n",
       "      <th>1000102</th>\n",
       "      <td>17.765557</td>\n",
       "      <td>4.372856</td>\n",
       "      <td>4.136630</td>\n",
       "      <td>200.247817</td>\n",
       "      <td>4.650963</td>\n",
       "      <td>4.169158</td>\n",
       "      <td>41.395570</td>\n",
       "      <td>0</td>\n",
       "      <td>0</td>\n",
       "      <td>0</td>\n",
       "      <td>...</td>\n",
       "      <td>0</td>\n",
       "      <td>0</td>\n",
       "      <td>0</td>\n",
       "      <td>0</td>\n",
       "      <td>0</td>\n",
       "      <td>0</td>\n",
       "      <td>0</td>\n",
       "      <td>0</td>\n",
       "      <td>0</td>\n",
       "      <td>0</td>\n",
       "    </tr>\n",
       "    <tr>\n",
       "      <th>1000102</th>\n",
       "      <td>17.765557</td>\n",
       "      <td>4.372856</td>\n",
       "      <td>4.136630</td>\n",
       "      <td>200.247817</td>\n",
       "      <td>4.650963</td>\n",
       "      <td>4.169158</td>\n",
       "      <td>41.934284</td>\n",
       "      <td>0</td>\n",
       "      <td>0</td>\n",
       "      <td>0</td>\n",
       "      <td>...</td>\n",
       "      <td>0</td>\n",
       "      <td>0</td>\n",
       "      <td>0</td>\n",
       "      <td>0</td>\n",
       "      <td>0</td>\n",
       "      <td>0</td>\n",
       "      <td>0</td>\n",
       "      <td>0</td>\n",
       "      <td>0</td>\n",
       "      <td>0</td>\n",
       "    </tr>\n",
       "    <tr>\n",
       "      <th>1000102</th>\n",
       "      <td>17.765557</td>\n",
       "      <td>4.372856</td>\n",
       "      <td>4.136630</td>\n",
       "      <td>200.247817</td>\n",
       "      <td>4.650963</td>\n",
       "      <td>4.169158</td>\n",
       "      <td>41.395570</td>\n",
       "      <td>0</td>\n",
       "      <td>0</td>\n",
       "      <td>0</td>\n",
       "      <td>...</td>\n",
       "      <td>0</td>\n",
       "      <td>0</td>\n",
       "      <td>0</td>\n",
       "      <td>0</td>\n",
       "      <td>0</td>\n",
       "      <td>0</td>\n",
       "      <td>0</td>\n",
       "      <td>0</td>\n",
       "      <td>0</td>\n",
       "      <td>0</td>\n",
       "    </tr>\n",
       "    <tr>\n",
       "      <th>1000102</th>\n",
       "      <td>17.765557</td>\n",
       "      <td>4.372856</td>\n",
       "      <td>4.136630</td>\n",
       "      <td>200.247817</td>\n",
       "      <td>4.650963</td>\n",
       "      <td>4.169158</td>\n",
       "      <td>41.934284</td>\n",
       "      <td>0</td>\n",
       "      <td>0</td>\n",
       "      <td>0</td>\n",
       "      <td>...</td>\n",
       "      <td>0</td>\n",
       "      <td>0</td>\n",
       "      <td>0</td>\n",
       "      <td>0</td>\n",
       "      <td>0</td>\n",
       "      <td>0</td>\n",
       "      <td>0</td>\n",
       "      <td>0</td>\n",
       "      <td>0</td>\n",
       "      <td>0</td>\n",
       "    </tr>\n",
       "    <tr>\n",
       "      <th>1200019</th>\n",
       "      <td>17.108736</td>\n",
       "      <td>4.540159</td>\n",
       "      <td>3.950893</td>\n",
       "      <td>242.125706</td>\n",
       "      <td>4.726864</td>\n",
       "      <td>4.336707</td>\n",
       "      <td>48.371540</td>\n",
       "      <td>0</td>\n",
       "      <td>0</td>\n",
       "      <td>1</td>\n",
       "      <td>...</td>\n",
       "      <td>0</td>\n",
       "      <td>0</td>\n",
       "      <td>0</td>\n",
       "      <td>1</td>\n",
       "      <td>0</td>\n",
       "      <td>0</td>\n",
       "      <td>0</td>\n",
       "      <td>0</td>\n",
       "      <td>0</td>\n",
       "      <td>0</td>\n",
       "    </tr>\n",
       "    <tr>\n",
       "      <th>...</th>\n",
       "      <td>...</td>\n",
       "      <td>...</td>\n",
       "      <td>...</td>\n",
       "      <td>...</td>\n",
       "      <td>...</td>\n",
       "      <td>...</td>\n",
       "      <td>...</td>\n",
       "      <td>...</td>\n",
       "      <td>...</td>\n",
       "      <td>...</td>\n",
       "      <td>...</td>\n",
       "      <td>...</td>\n",
       "      <td>...</td>\n",
       "      <td>...</td>\n",
       "      <td>...</td>\n",
       "      <td>...</td>\n",
       "      <td>...</td>\n",
       "      <td>...</td>\n",
       "      <td>...</td>\n",
       "      <td>...</td>\n",
       "      <td>...</td>\n",
       "    </tr>\n",
       "    <tr>\n",
       "      <th>9842300036</th>\n",
       "      <td>15.270264</td>\n",
       "      <td>4.215112</td>\n",
       "      <td>3.983716</td>\n",
       "      <td>200.247817</td>\n",
       "      <td>4.436447</td>\n",
       "      <td>4.067768</td>\n",
       "      <td>44.568749</td>\n",
       "      <td>0</td>\n",
       "      <td>1</td>\n",
       "      <td>0</td>\n",
       "      <td>...</td>\n",
       "      <td>0</td>\n",
       "      <td>0</td>\n",
       "      <td>0</td>\n",
       "      <td>0</td>\n",
       "      <td>0</td>\n",
       "      <td>0</td>\n",
       "      <td>0</td>\n",
       "      <td>0</td>\n",
       "      <td>0</td>\n",
       "      <td>0</td>\n",
       "    </tr>\n",
       "    <tr>\n",
       "      <th>9842300095</th>\n",
       "      <td>16.063047</td>\n",
       "      <td>4.215364</td>\n",
       "      <td>4.036119</td>\n",
       "      <td>200.247817</td>\n",
       "      <td>4.458633</td>\n",
       "      <td>4.067859</td>\n",
       "      <td>43.499189</td>\n",
       "      <td>0</td>\n",
       "      <td>0</td>\n",
       "      <td>0</td>\n",
       "      <td>...</td>\n",
       "      <td>0</td>\n",
       "      <td>0</td>\n",
       "      <td>0</td>\n",
       "      <td>0</td>\n",
       "      <td>0</td>\n",
       "      <td>0</td>\n",
       "      <td>0</td>\n",
       "      <td>0</td>\n",
       "      <td>0</td>\n",
       "      <td>0</td>\n",
       "    </tr>\n",
       "    <tr>\n",
       "      <th>9842300540</th>\n",
       "      <td>14.601756</td>\n",
       "      <td>4.213342</td>\n",
       "      <td>3.814840</td>\n",
       "      <td>124.110001</td>\n",
       "      <td>4.543954</td>\n",
       "      <td>4.083910</td>\n",
       "      <td>42.903628</td>\n",
       "      <td>0</td>\n",
       "      <td>1</td>\n",
       "      <td>0</td>\n",
       "      <td>...</td>\n",
       "      <td>0</td>\n",
       "      <td>0</td>\n",
       "      <td>0</td>\n",
       "      <td>0</td>\n",
       "      <td>0</td>\n",
       "      <td>0</td>\n",
       "      <td>0</td>\n",
       "      <td>0</td>\n",
       "      <td>0</td>\n",
       "      <td>0</td>\n",
       "    </tr>\n",
       "    <tr>\n",
       "      <th>9895000040</th>\n",
       "      <td>15.558411</td>\n",
       "      <td>3.873861</td>\n",
       "      <td>3.879984</td>\n",
       "      <td>155.962718</td>\n",
       "      <td>4.527179</td>\n",
       "      <td>3.796494</td>\n",
       "      <td>44.245147</td>\n",
       "      <td>1</td>\n",
       "      <td>0</td>\n",
       "      <td>0</td>\n",
       "      <td>...</td>\n",
       "      <td>0</td>\n",
       "      <td>0</td>\n",
       "      <td>0</td>\n",
       "      <td>0</td>\n",
       "      <td>0</td>\n",
       "      <td>0</td>\n",
       "      <td>0</td>\n",
       "      <td>0</td>\n",
       "      <td>0</td>\n",
       "      <td>0</td>\n",
       "    </tr>\n",
       "    <tr>\n",
       "      <th>9900000190</th>\n",
       "      <td>15.299866</td>\n",
       "      <td>4.346227</td>\n",
       "      <td>3.873544</td>\n",
       "      <td>139.080412</td>\n",
       "      <td>4.394456</td>\n",
       "      <td>4.186305</td>\n",
       "      <td>41.083972</td>\n",
       "      <td>0</td>\n",
       "      <td>1</td>\n",
       "      <td>0</td>\n",
       "      <td>...</td>\n",
       "      <td>0</td>\n",
       "      <td>0</td>\n",
       "      <td>0</td>\n",
       "      <td>1</td>\n",
       "      <td>0</td>\n",
       "      <td>0</td>\n",
       "      <td>0</td>\n",
       "      <td>0</td>\n",
       "      <td>0</td>\n",
       "      <td>0</td>\n",
       "    </tr>\n",
       "  </tbody>\n",
       "</table>\n",
       "<p>16568 rows × 316 columns</p>\n",
       "</div>"
      ],
      "text/plain": [
       "            sqft_living  sqft_lot  sqft_above  sqft_basement  sqft_living15  \\\n",
       "id                                                                            \n",
       "1000102       17.765557  4.372856    4.136630     200.247817       4.650963   \n",
       "1000102       17.765557  4.372856    4.136630     200.247817       4.650963   \n",
       "1000102       17.765557  4.372856    4.136630     200.247817       4.650963   \n",
       "1000102       17.765557  4.372856    4.136630     200.247817       4.650963   \n",
       "1200019       17.108736  4.540159    3.950893     242.125706       4.726864   \n",
       "...                 ...       ...         ...            ...            ...   \n",
       "9842300036    15.270264  4.215112    3.983716     200.247817       4.436447   \n",
       "9842300095    16.063047  4.215364    4.036119     200.247817       4.458633   \n",
       "9842300540    14.601756  4.213342    3.814840     124.110001       4.543954   \n",
       "9895000040    15.558411  3.873861    3.879984     155.962718       4.527179   \n",
       "9900000190    15.299866  4.346227    3.873544     139.080412       4.394456   \n",
       "\n",
       "            sqft_lot15      price  bedrooms_2  bedrooms_3  bedrooms_4  ...  \\\n",
       "id                                                                     ...   \n",
       "1000102       4.169158  41.395570           0           0           0  ...   \n",
       "1000102       4.169158  41.934284           0           0           0  ...   \n",
       "1000102       4.169158  41.395570           0           0           0  ...   \n",
       "1000102       4.169158  41.934284           0           0           0  ...   \n",
       "1200019       4.336707  48.371540           0           0           1  ...   \n",
       "...                ...        ...         ...         ...         ...  ...   \n",
       "9842300036    4.067768  44.568749           0           1           0  ...   \n",
       "9842300095    4.067859  43.499189           0           0           0  ...   \n",
       "9842300540    4.083910  42.903628           0           1           0  ...   \n",
       "9895000040    3.796494  44.245147           1           0           0  ...   \n",
       "9900000190    4.186305  41.083972           0           1           0  ...   \n",
       "\n",
       "            zip_code_98146  zip_code_98148  zip_code_98155  zip_code_98166  \\\n",
       "id                                                                           \n",
       "1000102                  0               0               0               0   \n",
       "1000102                  0               0               0               0   \n",
       "1000102                  0               0               0               0   \n",
       "1000102                  0               0               0               0   \n",
       "1200019                  0               0               0               1   \n",
       "...                    ...             ...             ...             ...   \n",
       "9842300036               0               0               0               0   \n",
       "9842300095               0               0               0               0   \n",
       "9842300540               0               0               0               0   \n",
       "9895000040               0               0               0               0   \n",
       "9900000190               0               0               0               1   \n",
       "\n",
       "            zip_code_98168  zip_code_98177  zip_code_98178  zip_code_98188  \\\n",
       "id                                                                           \n",
       "1000102                  0               0               0               0   \n",
       "1000102                  0               0               0               0   \n",
       "1000102                  0               0               0               0   \n",
       "1000102                  0               0               0               0   \n",
       "1200019                  0               0               0               0   \n",
       "...                    ...             ...             ...             ...   \n",
       "9842300036               0               0               0               0   \n",
       "9842300095               0               0               0               0   \n",
       "9842300540               0               0               0               0   \n",
       "9895000040               0               0               0               0   \n",
       "9900000190               0               0               0               0   \n",
       "\n",
       "            zip_code_98198  zip_code_98199  \n",
       "id                                          \n",
       "1000102                  0               0  \n",
       "1000102                  0               0  \n",
       "1000102                  0               0  \n",
       "1000102                  0               0  \n",
       "1200019                  0               0  \n",
       "...                    ...             ...  \n",
       "9842300036               0               0  \n",
       "9842300095               0               0  \n",
       "9842300540               0               0  \n",
       "9895000040               0               0  \n",
       "9900000190               0               0  \n",
       "\n",
       "[16568 rows x 316 columns]"
      ]
     },
     "execution_count": 31,
     "metadata": {},
     "output_type": "execute_result"
    }
   ],
   "source": [
    "# Encoding categorical values\n",
    "\n",
    "data2 = pd.get_dummies(table, drop_first=True)\n",
    "data2"
   ]
  },
  {
   "cell_type": "code",
   "execution_count": 32,
   "metadata": {},
   "outputs": [
    {
     "data": {
      "text/plain": [
       "(16568, 316)"
      ]
     },
     "execution_count": 32,
     "metadata": {},
     "output_type": "execute_result"
    }
   ],
   "source": [
    "data2.shape"
   ]
  },
  {
   "cell_type": "markdown",
   "metadata": {},
   "source": [
    "# ML model - LR"
   ]
  },
  {
   "cell_type": "code",
   "execution_count": 33,
   "metadata": {},
   "outputs": [],
   "source": [
    "# TESTING & RUNNING THE MODEL\n",
    "\n",
    "# splitting our data\n",
    "\n",
    "X = data2.drop(['price','sqft_lot15'], axis=1)\n",
    "y = data2['price']\n",
    "\n",
    "X_train, X_test, y_train, y_test = train_test_split(X, y, test_size=0.3, random_state=42)"
   ]
  },
  {
   "cell_type": "code",
   "execution_count": 34,
   "metadata": {},
   "outputs": [
    {
     "data": {
      "text/plain": [
       "LinearRegression()"
      ]
     },
     "execution_count": 34,
     "metadata": {},
     "output_type": "execute_result"
    }
   ],
   "source": [
    "model = LinearRegression()\n",
    "model.fit(X_train, y_train)"
   ]
  },
  {
   "cell_type": "code",
   "execution_count": 35,
   "metadata": {},
   "outputs": [],
   "source": [
    "predictions = model.predict(X_test)"
   ]
  },
  {
   "cell_type": "code",
   "execution_count": 36,
   "metadata": {},
   "outputs": [],
   "source": [
    "from sklearn.metrics import r2_score, mean_squared_error, mean_absolute_error"
   ]
  },
  {
   "cell_type": "code",
   "execution_count": 37,
   "metadata": {},
   "outputs": [
    {
     "name": "stdout",
     "output_type": "stream",
     "text": [
      "The R2_score is 0.8514734962992707\n",
      "The mean_absolute_error is 1.031075428043854\n",
      "The mean_squared error is 1.4128332183681158\n"
     ]
    }
   ],
   "source": [
    "print(\"The R2_score is\",r2_score(y_test, predictions))\n",
    "print (\"The mean_absolute_error is\", mean_absolute_error(y_test, predictions))\n",
    "print(\"The mean_squared error is\", mean_squared_error(y_test, predictions, squared=False))"
   ]
  },
  {
   "cell_type": "code",
   "execution_count": 38,
   "metadata": {},
   "outputs": [
    {
     "data": {
      "text/plain": [
       "<AxesSubplot:ylabel='price'>"
      ]
     },
     "execution_count": 38,
     "metadata": {},
     "output_type": "execute_result"
    },
    {
     "data": {
      "image/png": "[encoded data removed]",
      "text/plain": [
       "<Figure size 432x288 with 1 Axes>"
      ]
     },
     "metadata": {
      "needs_background": "light"
     },
     "output_type": "display_data"
    }
   ],
   "source": [
    "sns.regplot(predictions, y_test, line_kws={\"color\": \"red\"})"
   ]
  },
  {
   "cell_type": "markdown",
   "metadata": {},
   "source": [
    "# ML model - KNN"
   ]
  },
  {
   "cell_type": "code",
   "execution_count": 39,
   "metadata": {},
   "outputs": [
    {
     "data": {
      "text/plain": [
       "KNeighborsRegressor(n_neighbors=3)"
      ]
     },
     "execution_count": 39,
     "metadata": {},
     "output_type": "execute_result"
    }
   ],
   "source": [
    "knn = KNeighborsRegressor(n_neighbors=3)\n",
    "knn.fit(X_train, y_train)"
   ]
  },
  {
   "cell_type": "code",
   "execution_count": 40,
   "metadata": {},
   "outputs": [
    {
     "data": {
      "text/plain": [
       "0.48598512531619087"
      ]
     },
     "execution_count": 40,
     "metadata": {},
     "output_type": "execute_result"
    }
   ],
   "source": [
    "knn.score(X_test, y_test)"
   ]
  },
  {
   "cell_type": "markdown",
   "metadata": {},
   "source": [
    "# Random forest"
   ]
  },
  {
   "cell_type": "code",
   "execution_count": 42,
   "metadata": {},
   "outputs": [],
   "source": [
    "from sklearn.ensemble import RandomForestRegressor\n",
    "\n",
    "regressor = RandomForestRegressor(n_estimators=20, random_state=0)\n",
    "regressor.fit(X_train, y_train)\n",
    "y_pred = regressor.predict(X_test)"
   ]
  },
  {
   "cell_type": "code",
   "execution_count": 43,
   "metadata": {},
   "outputs": [
    {
     "data": {
      "text/plain": [
       "0.7497108930081811"
      ]
     },
     "execution_count": 43,
     "metadata": {},
     "output_type": "execute_result"
    }
   ],
   "source": [
    "regressor.score(X_test, y_test)"
   ]
  },
  {
   "cell_type": "code",
   "execution_count": 44,
   "metadata": {},
   "outputs": [
    {
     "name": "stdout",
     "output_type": "stream",
     "text": [
      "Mean Absolute Error: 1.3583204165043614\n",
      "Mean Squared Error: 3.363719599432799\n",
      "Root Mean Squared Error: 1.834044601265956\n"
     ]
    }
   ],
   "source": [
    "from sklearn import metrics\n",
    "\n",
    "print('Mean Absolute Error:', metrics.mean_absolute_error(y_test, y_pred))\n",
    "print('Mean Squared Error:', metrics.mean_squared_error(y_test, y_pred))\n",
    "print('Root Mean Squared Error:', np.sqrt(metrics.mean_squared_error(y_test, y_pred)))"
   ]
  }
 ],
 "metadata": {
  "kernelspec": {
   "display_name": "Python 3",
   "language": "python",
   "name": "python3"
  },
  "language_info": {
   "codemirror_mode": {
    "name": "ipython",
    "version": 3
   },
   "file_extension": ".py",
   "mimetype": "text/x-python",
   "name": "python",
   "nbconvert_exporter": "python",
   "pygments_lexer": "ipython3",
   "version": "3.8.5"
  }
 },
 "nbformat": 4,
 "nbformat_minor": 4
}
